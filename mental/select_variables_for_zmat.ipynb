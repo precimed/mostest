{
 "cells": [
  {
   "cell_type": "code",
   "execution_count": 18,
   "id": "a688b1c7",
   "metadata": {},
   "outputs": [],
   "source": [
    "import os\n",
    "import pandas as pd"
   ]
  },
  {
   "cell_type": "code",
   "execution_count": 37,
   "id": "ea78d041",
   "metadata": {},
   "outputs": [],
   "source": [
    "zmat_dir = \"/cluster/projects/p33/users/alexeas/most_mental/new_start/zmat\"\n",
    "zmat_suffix = \"personality49_cognition28.csv\"\n",
    "\n",
    "zmat_fname = os.path.join(zmat_dir, f\"zmat.orig.{zmat_suffix}\")\n",
    "zmat_head_df = pd.read_csv(zmat_fname, sep='\\t', nrows=5)\n",
    "\n",
    "#cognition_variables = \"20016 4935 4946 4957 4968 4979 4990 5001 5012 5556 5699 5779 5790 5866\".split()\n",
    "cognition_variables = \"20016 4957 4968 4979 4990 5001 5012 5556 5699 5790\".split()\n",
    "personality_variabels = \"20127 1920 1930 1940 1950 1960 1970 1980 1990 2000 2010 2020 2030\".split()\n",
    "\n",
    "def get_df_with_cols(zmat_fname, variables_fids):\n",
    "    zmat_head_df = pd.read_csv(zmat_fname, sep='\\t', nrows=1)\n",
    "    cols2get_ids = [c for c in zmat_head_df if any(fid == c[1:].split('_')[0] for fid in variables_fids)]\n",
    "    print(f'{len(variables_fids)}/{len(cols2get_ids)} variables total/found')\n",
    "    zmat_df = pd.read_csv(zmat_fname, sep='\\t', usecols=cols2get_ids, na_filter=False)\n",
    "    return zmat_df"
   ]
  },
  {
   "cell_type": "code",
   "execution_count": 38,
   "id": "9ee44c3e",
   "metadata": {},
   "outputs": [
    {
     "name": "stdout",
     "output_type": "stream",
     "text": [
      "Reading /cluster/projects/p33/users/alexeas/most_mental/new_start/zmat/zmat.orig.personality49_cognition28.csv\n",
      "23/23 variables total/found\n",
      "/cluster/projects/p33/users/alexeas/most_mental/new_start/zmat/zmat.orig.personality13_cognition10.csv saved\n",
      "Reading /cluster/projects/p33/users/alexeas/most_mental/new_start/zmat/zmat.perm.personality49_cognition28.csv\n",
      "23/23 variables total/found\n",
      "/cluster/projects/p33/users/alexeas/most_mental/new_start/zmat/zmat.perm.personality13_cognition10.csv saved\n"
     ]
    }
   ],
   "source": [
    "for orig_perm in [\"orig\", \"perm\"]:\n",
    "    zmat_fname = os.path.join(zmat_dir, f\"zmat.{orig_perm}.{zmat_suffix}\")\n",
    "    print(f\"Reading {zmat_fname}\")\n",
    "    outf = f\"zmat.{orig_perm}.personality{len(personality_variabels)}_cognition{len(cognition_variables)}.csv\"\n",
    "    out_path = os.path.join(zmat_dir, outf)\n",
    "    zmat_df = get_df_with_cols(zmat_fname, personality_variabels+cognition_variables)\n",
    "    zmat_df.to_csv(out_path, sep='\\t', index=False)\n",
    "    print(f\"{out_path} saved\")"
   ]
  },
  {
   "cell_type": "code",
   "execution_count": 33,
   "id": "7f21ad35",
   "metadata": {},
   "outputs": [
    {
     "name": "stdout",
     "output_type": "stream",
     "text": [
      "4935\n",
      "4946\n",
      "5779\n",
      "5866\n"
     ]
    }
   ],
   "source": [
    "for v in cognition_variables:\n",
    "    if not any(c[1:].split('_')[0] == v for c in zmat_head_df.columns):\n",
    "        print(v)"
   ]
  },
  {
   "cell_type": "code",
   "execution_count": null,
   "id": "d11f1808",
   "metadata": {},
   "outputs": [],
   "source": []
  }
 ],
 "metadata": {
  "kernelspec": {
   "display_name": "Python 3",
   "language": "python",
   "name": "python3"
  },
  "language_info": {
   "codemirror_mode": {
    "name": "ipython",
    "version": 3
   },
   "file_extension": ".py",
   "mimetype": "text/x-python",
   "name": "python",
   "nbconvert_exporter": "python",
   "pygments_lexer": "ipython3",
   "version": "3.8.8"
  }
 },
 "nbformat": 4,
 "nbformat_minor": 5
}
